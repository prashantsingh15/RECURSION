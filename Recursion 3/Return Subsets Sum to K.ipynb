{
 "cells": [
  {
   "cell_type": "markdown",
   "id": "50e9b9ec",
   "metadata": {},
   "source": [
    "Given an array A of sum n and an integrs K,return all subset of A which sum to k.\n",
    "Subsets are of length varying from 0 to n, that contain elements of the array. But the order of elements should remain same as in the input array.\n",
    "\n",
    "\n",
    "Note : The order of subsets are not important.\n",
    "\n",
    "\n",
    "Input format :\n",
    "Line 1 : Integer n, Size of input array\n",
    "Line 2 : Array elements separated by space\n",
    "Line 3 : K \n",
    "Constraints :\n",
    "1 <= n <= 20\n",
    "Sample Input :\n",
    "9 \n",
    "5 12 3 17 1 18 15 3 17 \n",
    "6\n",
    "Sample Output :\n",
    "3 3\n",
    "5 1"
   ]
  },
  {
   "cell_type": "code",
   "execution_count": 6,
   "id": "7c3df3ed",
   "metadata": {},
   "outputs": [
    {
     "name": "stdout",
     "output_type": "stream",
     "text": [
      "9\n",
      "5 12 3 17 1 18 15 3 17\n",
      "6\n",
      "5 1 \n",
      "3 3 \n"
     ]
    }
   ],
   "source": [
    "import sys\n",
    "sys.setrecursionlimit(10 ** 8)\n",
    "\n",
    "\n",
    "def subsetsSumK(arr, k,output='') :\n",
    "    if len(arr)==0:\n",
    "        if k==0:\n",
    "            print(output)\n",
    "        return\n",
    "       \n",
    "    if(arr[0] <= k):\n",
    "        subsetsSumK(arr[1:],k-arr[0],output+str(arr[0])+\" \")\n",
    "        subsetsSumK(arr[1:],k,output)\n",
    "    else:\n",
    "        subsetsSumK(arr[1:],k,output)\n",
    "    \n",
    "\n",
    "\n",
    "#taking input\n",
    "def takeInput() :\n",
    "    n = int(input().strip())\n",
    "\n",
    "    if n == 0 :\n",
    "        return list(), 0\n",
    "\n",
    "    arr = [int(element) for element in list(input().strip().split(\" \"))]\n",
    "    return arr, n\n",
    "\n",
    "\n",
    "#printing the list of lists\n",
    "def printListOfList(liOfLi) :\n",
    "    for li in liOfLi :\n",
    "        for elem in li :\n",
    "            print(elem, end = \" \")\n",
    "        print()\n",
    "\n",
    "#main\n",
    "arr, n = takeInput()\n",
    "\n",
    "if n != 0 :\n",
    "    k = int(input().strip())\n",
    "    liOfLi = subsetsSumK(arr, k)\n"
   ]
  }
 ],
 "metadata": {
  "kernelspec": {
   "display_name": "Python 3 (ipykernel)",
   "language": "python",
   "name": "python3"
  },
  "language_info": {
   "codemirror_mode": {
    "name": "ipython",
    "version": 3
   },
   "file_extension": ".py",
   "mimetype": "text/x-python",
   "name": "python",
   "nbconvert_exporter": "python",
   "pygments_lexer": "ipython3",
   "version": "3.11.2"
  }
 },
 "nbformat": 4,
 "nbformat_minor": 5
}
