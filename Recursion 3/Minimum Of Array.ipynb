{
 "cells": [
  {
   "cell_type": "code",
   "execution_count": 1,
   "id": "ce421506",
   "metadata": {},
   "outputs": [],
   "source": [
    "def minList(l):\n",
    "    if len(l) == 0:\n",
    "        return l[0]\n",
    "    minSmallArray = minList(l[1:])\n",
    "    overallMin = min(minSmallArray,l[0])\n",
    "    return overallMin\n",
    "\n"
   ]
  },
  {
   "cell_type": "code",
   "execution_count": 2,
   "id": "6e1a0815",
   "metadata": {},
   "outputs": [],
   "source": [
    "def printMin(l,minSoFar=100000):\n",
    "    if len(l) == 0:\n",
    "        print(minSoFar)\n",
    "        return \n",
    "    newMin = min(minSoFar,l[0])\n",
    "    printMin(l[1:],newMin)\n",
    "    \n",
    "    \n",
    "    "
   ]
  },
  {
   "cell_type": "code",
   "execution_count": 4,
   "id": "a13f1087",
   "metadata": {},
   "outputs": [
    {
     "name": "stdout",
     "output_type": "stream",
     "text": [
      "-1000\n"
     ]
    }
   ],
   "source": [
    "printMin([1,2,3,4,-1,0,-2,-4,5,6,])\n"
   ]
  }
 ],
 "metadata": {
  "kernelspec": {
   "display_name": "Python 3 (ipykernel)",
   "language": "python",
   "name": "python3"
  },
  "language_info": {
   "codemirror_mode": {
    "name": "ipython",
    "version": 3
   },
   "file_extension": ".py",
   "mimetype": "text/x-python",
   "name": "python",
   "nbconvert_exporter": "python",
   "pygments_lexer": "ipython3",
   "version": "3.11.2"
  }
 },
 "nbformat": 4,
 "nbformat_minor": 5
}
