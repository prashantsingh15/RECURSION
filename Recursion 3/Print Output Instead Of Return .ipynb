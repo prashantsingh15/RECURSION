{
 "cells": [
  {
   "cell_type": "markdown",
   "id": "6e4c7fe5",
   "metadata": {},
   "source": [
    "##### PRINT  OUTPUT INSTEAD OF RETURN FOR FACTORIAL"
   ]
  },
  {
   "cell_type": "code",
   "execution_count": 4,
   "id": "8641e39b",
   "metadata": {},
   "outputs": [],
   "source": [
    "def factHelper(n):\n",
    "    if n == 0:\n",
    "        return 1\n",
    "    smallOutput = factHelper(n-1)\n",
    "    output = n * smallOutput\n",
    "    return output\n"
   ]
  },
  {
   "cell_type": "code",
   "execution_count": 5,
   "id": "497c29d7",
   "metadata": {},
   "outputs": [
    {
     "name": "stdout",
     "output_type": "stream",
     "text": [
      "120\n"
     ]
    }
   ],
   "source": [
    "def fact(n):\n",
    "    output = factHelper(n)\n",
    "    print(output)\n",
    "    \n",
    "fact(5)"
   ]
  },
  {
   "cell_type": "markdown",
   "id": "2a174181",
   "metadata": {},
   "source": [
    "###### second process"
   ]
  },
  {
   "cell_type": "code",
   "execution_count": 6,
   "id": "d7c0eb30",
   "metadata": {},
   "outputs": [
    {
     "name": "stdout",
     "output_type": "stream",
     "text": [
      "120\n"
     ]
    }
   ],
   "source": [
    "def printfact(n,ans):\n",
    "    if n==0:\n",
    "        print(ans)\n",
    "        return \n",
    "    ans  = ans*n\n",
    "    printfact(n-1,ans)\n",
    "    \n",
    "printfact(5,1)"
   ]
  }
 ],
 "metadata": {
  "kernelspec": {
   "display_name": "Python 3 (ipykernel)",
   "language": "python",
   "name": "python3"
  },
  "language_info": {
   "codemirror_mode": {
    "name": "ipython",
    "version": 3
   },
   "file_extension": ".py",
   "mimetype": "text/x-python",
   "name": "python",
   "nbconvert_exporter": "python",
   "pygments_lexer": "ipython3",
   "version": "3.11.2"
  }
 },
 "nbformat": 4,
 "nbformat_minor": 5
}
