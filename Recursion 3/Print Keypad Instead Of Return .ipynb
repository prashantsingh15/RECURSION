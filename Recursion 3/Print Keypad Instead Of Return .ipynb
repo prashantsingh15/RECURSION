{
 "cells": [
  {
   "cell_type": "code",
   "execution_count": 1,
   "id": "e1fd0278",
   "metadata": {},
   "outputs": [],
   "source": [
    "def getString(d):\n",
    "    if d == 2:\n",
    "        return \"abc\"\n",
    "    if d == 3:\n",
    "        return \"def\"\n",
    "    if d == 4:\n",
    "        return \"ghi\"\n",
    "    if d == 5:\n",
    "        return \"jkl\"\n",
    "    if d == 6:\n",
    "        return \"mno\"\n",
    "    if d == 7:\n",
    "        return \"pqrs\"\n",
    "    if d == 8:\n",
    "        return \"tuv\"\n",
    "    if d == 9:\n",
    "        return \"wxyz\"\n",
    "    \n",
    "    return \"\""
   ]
  },
  {
   "cell_type": "code",
   "execution_count": 3,
   "id": "1650cca8",
   "metadata": {},
   "outputs": [],
   "source": [
    "def Keypad(n,outputSoFar):\n",
    "    if n == 0:\n",
    "        print(outputSoFar)\n",
    "        return \n",
    "    smallNumber = n // 10\n",
    "    lastDigit = n % 10\n",
    "    \n",
    "    optionsForlastdigit = getString(lastDigit)\n",
    "    for c in optionsForlastdigit:\n",
    "        newOutput = c + outputSoFar\n",
    "        Keypad(smallNumber,newOutput)"
   ]
  },
  {
   "cell_type": "code",
   "execution_count": 6,
   "id": "47993943",
   "metadata": {},
   "outputs": [
    {
     "name": "stdout",
     "output_type": "stream",
     "text": [
      "ad\n",
      "bd\n",
      "cd\n",
      "ae\n",
      "be\n",
      "ce\n",
      "af\n",
      "bf\n",
      "cf\n"
     ]
    }
   ],
   "source": [
    "Keypad(23,\"\")"
   ]
  }
 ],
 "metadata": {
  "kernelspec": {
   "display_name": "Python 3 (ipykernel)",
   "language": "python",
   "name": "python3"
  },
  "language_info": {
   "codemirror_mode": {
    "name": "ipython",
    "version": 3
   },
   "file_extension": ".py",
   "mimetype": "text/x-python",
   "name": "python",
   "nbconvert_exporter": "python",
   "pygments_lexer": "ipython3",
   "version": "3.11.2"
  }
 },
 "nbformat": 4,
 "nbformat_minor": 5
}
