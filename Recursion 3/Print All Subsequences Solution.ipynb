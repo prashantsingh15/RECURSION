{
 "cells": [
  {
   "cell_type": "code",
   "execution_count": 4,
   "id": "21f003d6",
   "metadata": {},
   "outputs": [
    {
     "name": "stdout",
     "output_type": "stream",
     "text": [
      "\n",
      "d\n",
      "c\n",
      "cd\n",
      "b\n",
      "bd\n",
      "bc\n",
      "bcd\n",
      "a\n",
      "ad\n",
      "ac\n",
      "acd\n",
      "ab\n",
      "abd\n",
      "abc\n",
      "abcd\n"
     ]
    }
   ],
   "source": [
    "def printSubs(s,o):\n",
    "    if len(s) == 0:\n",
    "        print(o)\n",
    "        return \n",
    "    \n",
    "    # Don't include 0th character\n",
    "    printSubs(s[1:],o)\n",
    "    \n",
    "    # Include 0th character \n",
    "    newOutput = o + s[0]\n",
    "    printSubs(s[1:],newOutput)\n",
    "    \n",
    "    \n",
    "printSubs(\"abcd\",\"\")"
   ]
  },
  {
   "cell_type": "code",
   "execution_count": 6,
   "id": "a6764339",
   "metadata": {},
   "outputs": [
    {
     "name": "stdout",
     "output_type": "stream",
     "text": [
      "abc\n",
      "\n",
      "c\n",
      "b\n",
      "bc\n",
      "a\n",
      "ac\n",
      "ab\n",
      "abc\n"
     ]
    }
   ],
   "source": [
    "def printSubs(s,o):\n",
    "    if len(s) == 0:\n",
    "        print(o)\n",
    "        return\n",
    "    \n",
    "    printSubs(s[1:],o)\n",
    "    \n",
    "    \n",
    "    \n",
    "    printSubs(s[1:],o + s[0])\n",
    "    \n",
    "ans = input()\n",
    "    \n",
    "printSubs(ans,\"\")\n",
    "        "
   ]
  }
 ],
 "metadata": {
  "kernelspec": {
   "display_name": "Python 3 (ipykernel)",
   "language": "python",
   "name": "python3"
  },
  "language_info": {
   "codemirror_mode": {
    "name": "ipython",
    "version": 3
   },
   "file_extension": ".py",
   "mimetype": "text/x-python",
   "name": "python",
   "nbconvert_exporter": "python",
   "pygments_lexer": "ipython3",
   "version": "3.11.2"
  }
 },
 "nbformat": 4,
 "nbformat_minor": 5
}
