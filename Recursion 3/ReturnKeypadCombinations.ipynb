{
 "cells": [
  {
   "cell_type": "code",
   "execution_count": 22,
   "id": "15f361d8",
   "metadata": {},
   "outputs": [],
   "source": [
    "def getString(d):\n",
    "    if d == 2:\n",
    "        return \"abc\"\n",
    "    \n",
    "    if d == 3:\n",
    "        return \"def\"\n",
    "    \n",
    "    if d == 4:\n",
    "        return \"ghi\"\n",
    "    \n",
    "    s\n",
    "    if d == 5:\n",
    "        return \"jkl\"\n",
    "    \n",
    "    if d == 6:\n",
    "        return \"mno\"\n",
    "    \n",
    "    if d == 7:\n",
    "        return \"pqrs\"\n",
    "    if d == 8:\n",
    "        return \"tuv\"\n",
    "    \n",
    "    if d == 9:\n",
    "        return \"wxyz\"\n",
    "    "
   ]
  },
  {
   "cell_type": "code",
   "execution_count": 23,
   "id": "82e42336",
   "metadata": {},
   "outputs": [],
   "source": [
    "def keypad(n):\n",
    "    if n==0:\n",
    "        output = []\n",
    "        output.append(\"\")\n",
    "        return output \n",
    "    \n",
    "    smallerNumber = n//10\n",
    "    lastdigit = n%10\n",
    "    \n",
    "    smallerOutput = keypad(smallerNumber)\n",
    "    optionsforlastdigit = getString(lastdigit)\n",
    "    output = []\n",
    "    \n",
    "    for s in smallerOutput:\n",
    "        for c in optionsforlastdigit:\n",
    "            options = s+c\n",
    "            output.append(options)\n",
    "    return output\n",
    "\n"
   ]
  },
  {
   "cell_type": "code",
   "execution_count": 24,
   "id": "73a5b4e0",
   "metadata": {},
   "outputs": [
    {
     "data": {
      "text/plain": [
       "(9, ['ad', 'ae', 'af', 'bd', 'be', 'bf', 'cd', 'ce', 'cf'])"
      ]
     },
     "execution_count": 24,
     "metadata": {},
     "output_type": "execute_result"
    }
   ],
   "source": [
    "keypad(23)\n",
    "output = keypad(23)\n",
    "len(output),output"
   ]
  }
 ],
 "metadata": {
  "kernelspec": {
   "display_name": "Python 3 (ipykernel)",
   "language": "python",
   "name": "python3"
  },
  "language_info": {
   "codemirror_mode": {
    "name": "ipython",
    "version": 3
   },
   "file_extension": ".py",
   "mimetype": "text/x-python",
   "name": "python",
   "nbconvert_exporter": "python",
   "pygments_lexer": "ipython3",
   "version": "3.11.2"
  }
 },
 "nbformat": 4,
 "nbformat_minor": 5
}
