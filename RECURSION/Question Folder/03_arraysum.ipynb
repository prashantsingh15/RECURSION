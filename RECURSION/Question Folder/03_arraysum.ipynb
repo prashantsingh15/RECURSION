{
 "cells": [
  {
   "cell_type": "markdown",
   "metadata": {},
   "source": [
    "3\n",
    "9 8 9"
   ]
  },
  {
   "cell_type": "markdown",
   "metadata": {},
   "source": [
    "Given an array of length N, you need to find and return the sum of all elements of the array.\n",
    "Do this recursively.\n",
    "Input Format :\n",
    "Line 1 : An Integer N i.e. size of array\n",
    "Line 2 : N integers which are elements of the array, separated by spaces"
   ]
  },
  {
   "cell_type": "code",
   "execution_count": 1,
   "metadata": {},
   "outputs": [
    {
     "name": "stdout",
     "output_type": "stream",
     "text": [
      "26\n"
     ]
    }
   ],
   "source": [
    "def sumArray(arr,N):\n",
    "    sum=0\n",
    "    N=len(arr)\n",
    "    for i in range(N):\n",
    "       sum=sum+arr[i]\n",
    "    return sum\n",
    "    pass\n",
    "\n",
    "# Main\n",
    "from sys import setrecursionlimit\n",
    "setrecursionlimit(11000)\n",
    "n=int(input())\n",
    "arr=list(int(i) for i in input().strip().split(' '))\n",
    "print(sumArray(arr,n))\n"
   ]
  }
 ],
 "metadata": {
  "kernelspec": {
   "display_name": "Python 3.9.12 ('base')",
   "language": "python",
   "name": "python3"
  },
  "language_info": {
   "codemirror_mode": {
    "name": "ipython",
    "version": 3
   },
   "file_extension": ".py",
   "mimetype": "text/x-python",
   "name": "python",
   "nbconvert_exporter": "python",
   "pygments_lexer": "ipython3",
   "version": "3.9.12"
  },
  "orig_nbformat": 4,
  "vscode": {
   "interpreter": {
    "hash": "e4abcd0df340a594effa82bcbf617a3d481270f90641c881f508b0a532b65559"
   }
  }
 },
 "nbformat": 4,
 "nbformat_minor": 2
}
