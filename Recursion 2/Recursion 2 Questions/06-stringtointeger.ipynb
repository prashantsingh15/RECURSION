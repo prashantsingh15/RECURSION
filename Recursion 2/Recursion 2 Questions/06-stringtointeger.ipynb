{
 "cells": [
  {
   "cell_type": "code",
   "execution_count": 1,
   "metadata": {},
   "outputs": [],
   "source": [
    "\n",
    "def stringToInt(str):\n",
    "\n",
    "\tif (len(str) == 1):\n",
    "\t\treturn ord(str[0]) - ord('0')\n",
    "\n",
    "\n",
    "\ty = stringToInt(str[1:])\n",
    "\n",
    "\n",
    "\tx = ord(str[0]) - ord('0')\n",
    "\n",
    "\n",
    "\tx = x * (10**(len(str) - 1)) + y\n",
    "\treturn x\n",
    "\n",
    "\n"
   ]
  },
  {
   "cell_type": "code",
   "execution_count": 2,
   "metadata": {},
   "outputs": [
    {
     "name": "stdout",
     "output_type": "stream",
     "text": [
      "1234\n"
     ]
    }
   ],
   "source": [
    "str=input(\"\")\n",
    "print(stringToInt(str))"
   ]
  }
 ],
 "metadata": {
  "kernelspec": {
   "display_name": "Python 3.9.12 ('base')",
   "language": "python",
   "name": "python3"
  },
  "language_info": {
   "codemirror_mode": {
    "name": "ipython",
    "version": 3
   },
   "file_extension": ".py",
   "mimetype": "text/x-python",
   "name": "python",
   "nbconvert_exporter": "python",
   "pygments_lexer": "ipython3",
   "version": "3.9.12"
  },
  "orig_nbformat": 4,
  "vscode": {
   "interpreter": {
    "hash": "e4abcd0df340a594effa82bcbf617a3d481270f90641c881f508b0a532b65559"
   }
  }
 },
 "nbformat": 4,
 "nbformat_minor": 2
}
