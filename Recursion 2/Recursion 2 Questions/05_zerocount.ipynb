{
 "cells": [
  {
   "cell_type": "code",
   "execution_count": 10,
   "metadata": {},
   "outputs": [
    {
     "name": "stdout",
     "output_type": "stream",
     "text": [
      "1\n"
     ]
    }
   ],
   "source": [
    "\n",
    "def countdigits(n, k):\n",
    "\tif n == 0:\n",
    "\t\treturn 0\n",
    "\t\t\n",
    "\n",
    "\tdigit = n % 10\n",
    "\t\n",
    "\tif digit == k:\n",
    "\t\treturn 1 + countdigits(n / 10, k)\n",
    "\n",
    "\treturn countdigits(n / 10, k)\n",
    "\n",
    "\n",
    "if __name__ == \"__main__\":\n",
    "\tn =int(input())\n",
    "\tk = 0\n",
    "\tprint(countdigits(n, k))\n"
   ]
  }
 ],
 "metadata": {
  "kernelspec": {
   "display_name": "Python 3.9.12 ('base')",
   "language": "python",
   "name": "python3"
  },
  "language_info": {
   "codemirror_mode": {
    "name": "ipython",
    "version": 3
   },
   "file_extension": ".py",
   "mimetype": "text/x-python",
   "name": "python",
   "nbconvert_exporter": "python",
   "pygments_lexer": "ipython3",
   "version": "3.9.12"
  },
  "orig_nbformat": 4,
  "vscode": {
   "interpreter": {
    "hash": "e4abcd0df340a594effa82bcbf617a3d481270f90641c881f508b0a532b65559"
   }
  }
 },
 "nbformat": 4,
 "nbformat_minor": 2
}
