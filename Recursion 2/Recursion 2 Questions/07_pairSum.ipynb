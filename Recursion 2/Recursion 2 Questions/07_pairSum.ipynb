{
 "cells": [
  {
   "cell_type": "code",
   "execution_count": 90,
   "metadata": {},
   "outputs": [],
   "source": [
    "def pairStar(Input, Output,i=0) :\n",
    "\n",
    "\tOutput = Output + Input[i]\n",
    "\n",
    "\t\n",
    "\tif (i == len(Input) - 1) :\n",
    "\t\tprint(Output)\n",
    "\t\treturn Output\n",
    "\t\t \n",
    "\n",
    "\n",
    "\tif (Input[i] == Input[i + 1]) :\n",
    "\t\tOutput = Output + '*'\n",
    "\n",
    "\t\t \n",
    "\n",
    "\t\t\n",
    "\t\t\n",
    "\n",
    "\t\t\n",
    "\n",
    "\tpairStar(Input, Output, i + 1)\n",
    "\n",
    "\n",
    "\tpass\n",
    "\n",
    "\t\n",
    "\n",
    "\n",
    "\n",
    "\n"
   ]
  },
  {
   "cell_type": "code",
   "execution_count": 93,
   "metadata": {},
   "outputs": [
    {
     "name": "stdout",
     "output_type": "stream",
     "text": [
      "hel*lo\n"
     ]
    }
   ],
   "source": [
    "if __name__ == \"__main__\" :\n",
    "\n",
    "  Input = input(\"\")\n",
    "  Output =\"\" \n",
    "  pairStar(Input, Output)"
   ]
  }
 ],
 "metadata": {
  "kernelspec": {
   "display_name": "Python 3.9.12 ('base')",
   "language": "python",
   "name": "python3"
  },
  "language_info": {
   "codemirror_mode": {
    "name": "ipython",
    "version": 3
   },
   "file_extension": ".py",
   "mimetype": "text/x-python",
   "name": "python",
   "nbconvert_exporter": "python",
   "pygments_lexer": "ipython3",
   "version": "3.9.12"
  },
  "orig_nbformat": 4,
  "vscode": {
   "interpreter": {
    "hash": "e4abcd0df340a594effa82bcbf617a3d481270f90641c881f508b0a532b65559"
   }
  }
 },
 "nbformat": 4,
 "nbformat_minor": 2
}
