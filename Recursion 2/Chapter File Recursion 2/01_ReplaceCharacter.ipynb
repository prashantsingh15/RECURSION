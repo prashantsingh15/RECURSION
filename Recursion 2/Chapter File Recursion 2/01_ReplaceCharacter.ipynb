{
 "cells": [
  {
   "cell_type": "markdown",
   "metadata": {},
   "source": [
    "REPLACING CHARACTER IN STRING "
   ]
  },
  {
   "cell_type": "code",
   "execution_count": null,
   "metadata": {},
   "outputs": [],
   "source": [
    "def replaceChr(s,a,b):\n",
    "    if len(s)==0:\n",
    "        return s\n",
    "    smallOutput=replaceChr(s[1:],a,b)\n",
    "    if s[0]==a:\n",
    "\n",
    "        return b + smallOutput\n",
    "\n",
    "    else:\n",
    "        return s[0] + smallOutput\n",
    "\n"
   ]
  },
  {
   "cell_type": "code",
   "execution_count": null,
   "metadata": {},
   "outputs": [],
   "source": [
    "replaceChr(\"muu\",'u','a')\n"
   ]
  },
  {
   "cell_type": "code",
   "execution_count": null,
   "metadata": {},
   "outputs": [],
   "source": [
    "def replaceChr(s,a,b):\n",
    "    if len (s)==0:\n",
    "        return s\n",
    "\n",
    "    smallOutput=replaceChr(s[1:],a,b)\n",
    "    if s[0]==a:\n",
    "        \n",
    "        return b+smallOutput\n",
    "\n",
    "    else:\n",
    "        return s[0] + smallOutput"
   ]
  },
  {
   "cell_type": "code",
   "execution_count": null,
   "metadata": {},
   "outputs": [],
   "source": [
    "replaceChr(\"muuuuu\",'u',\"a\")"
   ]
  },
  {
   "cell_type": "code",
   "execution_count": null,
   "metadata": {},
   "outputs": [],
   "source": [
    "def replaceChr(s,a,b):\n",
    "    if len(s)==0:\n",
    "        return s\n",
    "\n",
    "    smallOutput=replaceChr(s[1:],a,b)\n",
    "    if s"
   ]
  }
 ],
 "metadata": {
  "kernelspec": {
   "display_name": "Python 3.9.12 ('base')",
   "language": "python",
   "name": "python3"
  },
  "language_info": {
   "codemirror_mode": {
    "name": "ipython",
    "version": 3
   },
   "file_extension": ".py",
   "mimetype": "text/x-python",
   "name": "python",
   "nbconvert_exporter": "python",
   "pygments_lexer": "ipython3",
   "version": "3.9.12"
  },
  "orig_nbformat": 4,
  "vscode": {
   "interpreter": {
    "hash": "e4abcd0df340a594effa82bcbf617a3d481270f90641c881f508b0a532b65559"
   }
  }
 },
 "nbformat": 4,
 "nbformat_minor": 2
}
