{
 "cells": [
  {
   "cell_type": "code",
   "execution_count": null,
   "metadata": {},
   "outputs": [],
   "source": [
    "def partition(a,si,ei):\n",
    "    pivot=a[si]\n",
    "    #find number of elements smaller than pivot\n",
    "    c=0\n",
    "    for i in range(si,ei+1):\n",
    "        if a[i]<pivot:\n",
    "            c=c+1\n",
    "    a[si+c],a[si]=a[si],a[si+c]\n",
    "    pivot_index=si+c\n",
    "    \n",
    "    i=si\n",
    "    j=ei\n",
    "    while i<j:\n",
    "        if a[i]<pivot:\n",
    "            i=i+1\n",
    "        elif a[j]>=pivot:\n",
    "            j=j-1\n",
    "        else:\n",
    "            a[i],a[j]=a[j],a[i]\n",
    "            i=i+1\n",
    "            j=j-1\n",
    "    return pivot_index\n",
    "    "
   ]
  },
  {
   "cell_type": "code",
   "execution_count": null,
   "metadata": {},
   "outputs": [],
   "source": [
    "def quick_sort(a,si,ei):\n",
    "    if si>=ei:\n",
    "        return\n",
    "    \n",
    "    pivot_index=partition(a,si,ei)\n",
    "    quick_sort(a,si,pivot_index-1)\n",
    "    quick_sort(a,pivot_index+1,ei)\n",
    "\n",
    "   "
   ]
  },
  {
   "cell_type": "code",
   "execution_count": null,
   "metadata": {},
   "outputs": [],
   "source": [
    "a=[6,10,9,8,7,1,3,5,4,2]\n",
    "print(quick_sort(a,0,len(a)-1))\n",
    "a"
   ]
  }
 ],
 "metadata": {
  "kernelspec": {
   "display_name": "Python 3.9.12 ('base')",
   "language": "python",
   "name": "python3"
  },
  "language_info": {
   "codemirror_mode": {
    "name": "ipython",
    "version": 3
   },
   "file_extension": ".py",
   "mimetype": "text/x-python",
   "name": "python",
   "nbconvert_exporter": "python",
   "pygments_lexer": "ipython3",
   "version": "3.9.12"
  },
  "orig_nbformat": 4,
  "vscode": {
   "interpreter": {
    "hash": "e4abcd0df340a594effa82bcbf617a3d481270f90641c881f508b0a532b65559"
   }
  }
 },
 "nbformat": 4,
 "nbformat_minor": 2
}
