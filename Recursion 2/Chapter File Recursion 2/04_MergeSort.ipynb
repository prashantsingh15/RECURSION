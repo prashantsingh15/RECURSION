{
 "cells": [
  {
   "cell_type": "code",
   "execution_count": null,
   "metadata": {},
   "outputs": [],
   "source": [
    "def mergeSort(arr, start, end):\n",
    "    i=0\n",
    "    j=0\n",
    "    k=0\n",
    "    while i<len(arr) and j<len(start):\n",
    "        if (arr[i] < start[j]):\n",
    "            end[k]=arr[i]\n",
    "            k = k + 1\n",
    "            i = i + 1\n",
    "\n",
    "        else:\n",
    "            end[k] = start[j]\n",
    "            k=k + 1\n",
    "            j = j + 1\n",
    "\n",
    "        while i<len(arr):\n",
    "            end[k]=arr[i]\n",
    "            k=k+1\n",
    "            i=i+1\n",
    "\n",
    "        while j<len(start):\n",
    "            end[k]=start[j]\n",
    "            k=k+1\n",
    "            j=j+1\n",
    "\n",
    "def merge_sort(end):\n",
    "    if len(end)==0 or len(end)==1:\n",
    "        return\n",
    "    mid=len(end)//2\n",
    "    arr=end[0:mid]\n",
    "    start=end[mid:]\n",
    "    \n",
    "    merge_sort(arr)\n",
    "    merge_sort(start)\n",
    "    merge_sort(arr,start,end)\n",
    "    \n",
    "    \n",
    "    \n",
    "    pass\n",
    "\n",
    " \n",
    "\n",
    "\n",
    "    \n",
    "   "
   ]
  },
  {
   "cell_type": "code",
   "execution_count": null,
   "metadata": {},
   "outputs": [],
   "source": [
    "# Main\n",
    "n=int(input())\n",
    "arr=list(int(i) for i in input().strip().split(' '))\n",
    "\n",
    "mergeSort(arr, 0, n)\n",
    "\n",
    "\n",
    "\n",
    "\n",
    "print(*arr)"
   ]
  }
 ],
 "metadata": {
  "kernelspec": {
   "display_name": "Python 3.9.12 ('base')",
   "language": "python",
   "name": "python3"
  },
  "language_info": {
   "codemirror_mode": {
    "name": "ipython",
    "version": 3
   },
   "file_extension": ".py",
   "mimetype": "text/x-python",
   "name": "python",
   "nbconvert_exporter": "python",
   "pygments_lexer": "ipython3",
   "version": "3.9.12"
  },
  "orig_nbformat": 4,
  "vscode": {
   "interpreter": {
    "hash": "e4abcd0df340a594effa82bcbf617a3d481270f90641c881f508b0a532b65559"
   }
  }
 },
 "nbformat": 4,
 "nbformat_minor": 2
}
