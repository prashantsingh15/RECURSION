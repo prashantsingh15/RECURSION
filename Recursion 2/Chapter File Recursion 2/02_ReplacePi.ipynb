{
 "cells": [
  {
   "cell_type": "markdown",
   "metadata": {},
   "source": [
    "REPLACING THE CHARACTER FROM A STRING"
   ]
  },
  {
   "cell_type": "code",
   "execution_count": 1,
   "metadata": {},
   "outputs": [],
   "source": [
    "def replacePi(s):\n",
    "    if len(s)==0 or len(s)==1:\n",
    "        return s\n",
    "\n",
    "    if s[0]=='p' or s[1]=='i':\n",
    "        smallOutput=replacePi(s[2:])\n",
    "\n",
    "        return '3.14' + smallOutput\n",
    "\n",
    "    else:\n",
    "        smallOutput=replacePi(s[1:])\n",
    "        return s[0] + smallOutput\n",
    "\n",
    "    pass"
   ]
  },
  {
   "cell_type": "code",
   "execution_count": 3,
   "metadata": {},
   "outputs": [
    {
     "data": {
      "text/plain": [
       "'ab 3.14 cd 3.14 ef 3.14'"
      ]
     },
     "execution_count": 3,
     "metadata": {},
     "output_type": "execute_result"
    }
   ],
   "source": [
    "replacePi(\"ab pi cd pi ef pi\")\n"
   ]
  }
 ],
 "metadata": {
  "kernelspec": {
   "display_name": "Python 3.9.12 ('base')",
   "language": "python",
   "name": "python3"
  },
  "language_info": {
   "codemirror_mode": {
    "name": "ipython",
    "version": 3
   },
   "file_extension": ".py",
   "mimetype": "text/x-python",
   "name": "python",
   "nbconvert_exporter": "python",
   "pygments_lexer": "ipython3",
   "version": "3.9.12"
  },
  "orig_nbformat": 4,
  "vscode": {
   "interpreter": {
    "hash": "e4abcd0df340a594effa82bcbf617a3d481270f90641c881f508b0a532b65559"
   }
  }
 },
 "nbformat": 4,
 "nbformat_minor": 2
}
