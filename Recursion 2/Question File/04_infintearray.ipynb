{
 "cells": [
  {
   "cell_type": "code",
   "execution_count": null,
   "metadata": {},
   "outputs": [],
   "source": [
    "def _findSum(arr, N):\n",
    "    if N <= 0:\n",
    "        return 0\n",
    "    else:\n",
    "        return _findSum(arr, N - 1) + arr[N - 1]\n",
    " \n",
    "\n",
    "arr =[]\n",
    "\n",
    "arr = [1, 2, 3, 4, 5]\n",
    "  \n",
    "\n",
    "N = len(arr)\n",
    "  \n",
    "ans =_findSum(arr,N)\n",
    "print (ans)"
   ]
  }
 ],
 "metadata": {
  "language_info": {
   "name": "python"
  },
  "orig_nbformat": 4
 },
 "nbformat": 4,
 "nbformat_minor": 2
}
