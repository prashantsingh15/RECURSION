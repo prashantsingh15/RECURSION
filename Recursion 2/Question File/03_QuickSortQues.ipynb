{
 "cells": [
  {
   "cell_type": "code",
   "execution_count": 71,
   "metadata": {},
   "outputs": [],
   "source": [
    "def partition(arr, start, end):\n",
    "  \n",
    "\n",
    "    pivot = arr[end]\n",
    "  \n",
    "\n",
    "    i = start - 1\n",
    "  \n",
    "\n",
    "\n",
    "    for j in range(start, end):\n",
    "        if arr[j] <= pivot:\n",
    "            \n",
    "            \n",
    "            i = i + 1\n",
    "  \n",
    "            (arr[i], arr[j]) = (arr[j], arr[i])\n",
    "  \n",
    "    \n",
    "    \n",
    "    (arr[i + 1], arr[end]) = (arr[end], arr[i + 1])\n",
    "  \n",
    "    \n",
    "    return i + 1\n",
    "  "
   ]
  },
  {
   "cell_type": "code",
   "execution_count": 72,
   "metadata": {},
   "outputs": [],
   "source": [
    "def quickSort(arr,start,end):\n",
    "    if start <end:\n",
    "  \n",
    "\n",
    "        pi = partition(arr,start,end)\n",
    "  \n",
    "        \n",
    "        quickSort(arr,start, pi - 1)\n",
    "  \n",
    "      \n",
    "        quickSort(arr, pi + 1,end)\n",
    "        pass"
   ]
  },
  {
   "cell_type": "code",
   "execution_count": 73,
   "metadata": {},
   "outputs": [
    {
     "name": "stdout",
     "output_type": "stream",
     "text": [
      "2 3 4 5 6 8\n"
     ]
    }
   ],
   "source": [
    "n=int(input())\n",
    "arr=list(int(i) for i in input().strip().split(' '))\n",
    "quickSort(arr, 0, n-1)\n",
    "\n",
    "print(*arr)"
   ]
  }
 ],
 "metadata": {
  "kernelspec": {
   "display_name": "Python 3.9.12 ('base')",
   "language": "python",
   "name": "python3"
  },
  "language_info": {
   "codemirror_mode": {
    "name": "ipython",
    "version": 3
   },
   "file_extension": ".py",
   "mimetype": "text/x-python",
   "name": "python",
   "nbconvert_exporter": "python",
   "pygments_lexer": "ipython3",
   "version": "3.9.12"
  },
  "orig_nbformat": 4,
  "vscode": {
   "interpreter": {
    "hash": "e4abcd0df340a594effa82bcbf617a3d481270f90641c881f508b0a532b65559"
   }
  }
 },
 "nbformat": 4,
 "nbformat_minor": 2
}
